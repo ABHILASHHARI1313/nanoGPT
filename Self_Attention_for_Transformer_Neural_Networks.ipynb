{
 "cells": [
  {
   "cell_type": "markdown",
   "metadata": {
    "id": "gO5Z0qErNuOt"
   },
   "source": [
    "# Self Attention in Transformers"
   ]
  },
  {
   "cell_type": "markdown",
   "metadata": {
    "id": "HedntyUvLrBo"
   },
   "source": [
    "## Generate Data"
   ]
  },
  {
   "cell_type": "code",
   "execution_count": 1,
   "metadata": {
    "id": "xtKbaWhFJui3"
   },
   "outputs": [],
   "source": [
    "import numpy as np\n",
    "import math\n",
    "\n",
    "L, d_k, d_v = 4, 8, 8\n",
    "q = np.random.randn(L, d_k)\n",
    "k = np.random.randn(L, d_k)\n",
    "v = np.random.randn(L, d_v)"
   ]
  },
  {
   "cell_type": "code",
   "execution_count": 2,
   "metadata": {
    "colab": {
     "base_uri": "https://localhost:8080/"
    },
    "id": "09JpvuNJ2sZC",
    "outputId": "30d2c627-8647-44e0-aa92-c9e53e3b7843"
   },
   "outputs": [
    {
     "name": "stdout",
     "output_type": "stream",
     "text": [
      "Q\n",
      " [[-3.35336618e-01 -4.42061127e-01 -1.17153026e+00 -8.51012074e-01\n",
      "  -1.83310562e+00 -1.01997786e+00  6.96294774e-01  5.13188841e-04]\n",
      " [-7.87534906e-01  1.21066774e+00  3.39951764e-01  1.63836578e+00\n",
      "   2.54813915e+00 -9.37917890e-01  1.90957862e+00 -2.78035979e-01]\n",
      " [-4.53429169e-01 -8.28140974e-01 -6.84221156e-01 -2.21878794e-01\n",
      "   2.38625669e-01  1.45336504e+00 -1.31057753e+00 -1.53303384e-02]\n",
      " [-2.66411325e-01  1.31584574e+00  4.34539796e-01  1.49393629e+00\n",
      "  -2.14807639e-01 -1.99427124e+00  9.81772364e-01 -1.05129162e+00]]\n",
      "K\n",
      " [[-0.8205968   1.4327968  -1.11966656  0.53342803  0.12464472  0.77386094\n",
      "   0.57159063 -0.59304417]\n",
      " [ 0.35956654  0.70422676  1.69415205  0.74546541  0.39063949 -0.10742524\n",
      "   1.59620862 -0.40137663]\n",
      " [-0.91570749  1.1063129   0.75561256  0.68401174  0.70281035 -0.46485235\n",
      "  -0.78802292  0.37576825]\n",
      " [ 0.58927671  0.07248648 -0.23737439 -0.06384246 -0.65548825  0.10876345\n",
      "  -0.63519811 -1.13629993]]\n",
      "V\n",
      " [[-0.4547183   1.08644825  0.09757016  0.00665423 -1.3913434   1.59594689\n",
      "  -0.38568267 -0.17154568]\n",
      " [-0.64707855 -0.37239731  0.76493638  0.5580627   0.54597029  0.52976054\n",
      "   1.82688059 -0.14740212]\n",
      " [-0.66185751  0.40804583  0.78062387 -0.80888161  1.16188853 -0.70744358\n",
      "   1.01808301  0.64067366]\n",
      " [-0.32754707 -0.7482304   0.76547897  0.62732724 -1.65779573 -0.92049344\n",
      "  -0.73275788 -1.09287523]]\n"
     ]
    }
   ],
   "source": [
    "print(\"Q\\n\", q)\n",
    "print(\"K\\n\", k)\n",
    "print(\"V\\n\", v)"
   ]
  },
  {
   "cell_type": "markdown",
   "metadata": {
    "id": "tV6txskBLwjh"
   },
   "source": [
    "## Self Attention\n",
    "\n",
    "$$\n",
    "\\text{self attention} = softmax\\bigg(\\frac{Q.K^T}{\\sqrt{d_k}}+M\\bigg)\n",
    "$$\n",
    "\n",
    "$$\n",
    "\\text{new V} = \\text{self attention}.V\n",
    "$$ "
   ]
  },
  {
   "cell_type": "code",
   "execution_count": 3,
   "metadata": {
    "colab": {
     "base_uri": "https://localhost:8080/"
    },
    "id": "x7GePHKk3Mh0",
    "outputId": "7dae7f5e-4715-4fd4-fbfd-7c0815e7d39e"
   },
   "outputs": [
    {
     "data": {
      "text/plain": [
       "array([[-0.12055479, -2.54632389, -3.0120028 ,  0.7505471 ],\n",
       "       [ 3.72238603,  6.62253125,  4.05564529, -3.23092701],\n",
       "       [ 0.24769156, -4.21952803, -0.65063544,  0.7009105 ],\n",
       "       [ 2.02889466,  4.80011561,  2.65727714,  0.23472856]])"
      ]
     },
     "execution_count": 3,
     "metadata": {},
     "output_type": "execute_result"
    }
   ],
   "source": [
    "np.matmul(q, k.T)"
   ]
  },
  {
   "cell_type": "code",
   "execution_count": 4,
   "metadata": {
    "colab": {
     "base_uri": "https://localhost:8080/"
    },
    "id": "odK76OoI3nL2",
    "outputId": "69b50cdb-9a41-45ae-bfd2-619228af1ef7"
   },
   "outputs": [
    {
     "data": {
      "text/plain": [
       "(1.2149267729294917, 0.5843325614322845, 9.0454926090218)"
      ]
     },
     "execution_count": 4,
     "metadata": {},
     "output_type": "execute_result"
    }
   ],
   "source": [
    "# Why we need sqrt(d_k) in denominator\n",
    "q.var(), k.var(), np.matmul(q, k.T).var()"
   ]
  },
  {
   "cell_type": "code",
   "execution_count": 5,
   "metadata": {
    "colab": {
     "base_uri": "https://localhost:8080/"
    },
    "id": "0Ps6AY1Q3tRI",
    "outputId": "3b9ac3c8-70b8-47bd-e868-e7d6fd26d270"
   },
   "outputs": [
    {
     "data": {
      "text/plain": [
       "(1.2149267729294917, 0.5843325614322845, 1.1306865761277245)"
      ]
     },
     "execution_count": 5,
     "metadata": {},
     "output_type": "execute_result"
    }
   ],
   "source": [
    "scaled = np.matmul(q, k.T) / math.sqrt(d_k)\n",
    "q.var(), k.var(), scaled.var()"
   ]
  },
  {
   "cell_type": "markdown",
   "metadata": {
    "id": "ypO9IK1PL3cJ"
   },
   "source": [
    "Notice the reduction in variance of the product"
   ]
  },
  {
   "cell_type": "code",
   "execution_count": 6,
   "metadata": {
    "colab": {
     "base_uri": "https://localhost:8080/"
    },
    "id": "LVHAJR4N4VQX",
    "outputId": "52b06cf8-0381-453c-b576-0bd8de9a38b5"
   },
   "outputs": [
    {
     "data": {
      "text/plain": [
       "array([[-0.04262255, -0.90026145, -1.0649038 ,  0.26535847],\n",
       "       [ 1.3160622 ,  2.34141838,  1.43388714, -1.1423052 ],\n",
       "       [ 0.08757219, -1.49182844, -0.23003436,  0.24780928],\n",
       "       [ 0.71732259,  1.69709715,  0.93948934,  0.08298908]])"
      ]
     },
     "execution_count": 6,
     "metadata": {},
     "output_type": "execute_result"
    }
   ],
   "source": [
    "scaled"
   ]
  },
  {
   "cell_type": "markdown",
   "metadata": {
    "id": "Dmz4v-RmMAaj"
   },
   "source": [
    "## Masking\n",
    "\n",
    "- This is to ensure words don't get context from words generated in the future. \n",
    "- Not required in the encoders, but required int he decoders"
   ]
  },
  {
   "cell_type": "code",
   "execution_count": 7,
   "metadata": {
    "colab": {
     "base_uri": "https://localhost:8080/"
    },
    "id": "e8N3OhSLILfG",
    "outputId": "2c63a444-066c-44b2-abe5-242dd989f311"
   },
   "outputs": [
    {
     "data": {
      "text/plain": [
       "array([[1., 0., 0., 0.],\n",
       "       [1., 1., 0., 0.],\n",
       "       [1., 1., 1., 0.],\n",
       "       [1., 1., 1., 1.]])"
      ]
     },
     "execution_count": 7,
     "metadata": {},
     "output_type": "execute_result"
    }
   ],
   "source": [
    "mask = np.tril(np.ones( (L, L) ))\n",
    "mask"
   ]
  },
  {
   "cell_type": "code",
   "execution_count": 8,
   "metadata": {
    "id": "hIV9K3Yn6s1V"
   },
   "outputs": [],
   "source": [
    "mask[mask == 0] = -np.infty\n",
    "mask[mask == 1] = 0"
   ]
  },
  {
   "cell_type": "code",
   "execution_count": 9,
   "metadata": {
    "colab": {
     "base_uri": "https://localhost:8080/"
    },
    "id": "LK5V_T3W6vpX",
    "outputId": "bb4160a1-a011-4850-e403-9cb252572c66"
   },
   "outputs": [
    {
     "data": {
      "text/plain": [
       "array([[  0., -inf, -inf, -inf],\n",
       "       [  0.,   0., -inf, -inf],\n",
       "       [  0.,   0.,   0., -inf],\n",
       "       [  0.,   0.,   0.,   0.]])"
      ]
     },
     "execution_count": 9,
     "metadata": {},
     "output_type": "execute_result"
    }
   ],
   "source": [
    "mask"
   ]
  },
  {
   "cell_type": "code",
   "execution_count": null,
   "metadata": {
    "colab": {
     "base_uri": "https://localhost:8080/"
    },
    "id": "lNH1VgEf7xTa",
    "outputId": "4211c411-0356-4e39-8388-d39b0c1d0920"
   },
   "outputs": [
    {
     "data": {
      "text/plain": [
       "array([[ 0.68537216,        -inf,        -inf,        -inf],\n",
       "       [ 0.47796088,  0.42358302,        -inf,        -inf],\n",
       "       [ 0.37611945, -0.30709922, -0.65849946,        -inf],\n",
       "       [ 0.78209275, -0.99700418,  1.88206279,  0.79213542]])"
      ]
     },
     "execution_count": 10,
     "metadata": {},
     "output_type": "execute_result"
    }
   ],
   "source": [
    "scaled + mask"
   ]
  },
  {
   "cell_type": "markdown",
   "metadata": {
    "id": "XMTAXjooN9eZ"
   },
   "source": [
    "## Softmax\n",
    "\n",
    "$$\n",
    "\\text{softmax} = \\frac{e^{x_i}}{\\sum_j e^x_j}\n",
    "$$"
   ]
  },
  {
   "cell_type": "code",
   "execution_count": null,
   "metadata": {
    "id": "2R4gdRqj8W4Y"
   },
   "outputs": [],
   "source": [
    "def softmax(x):\n",
    "  return (np.exp(x).T / np.sum(np.exp(x), axis=-1)).T"
   ]
  },
  {
   "cell_type": "code",
   "execution_count": null,
   "metadata": {
    "id": "K5eg2zPy41sP"
   },
   "outputs": [],
   "source": [
    "attention = softmax(scaled + mask)"
   ]
  },
  {
   "cell_type": "code",
   "execution_count": null,
   "metadata": {
    "colab": {
     "base_uri": "https://localhost:8080/"
    },
    "id": "7sauNmfl-1TB",
    "outputId": "46b22beb-9034-4c7c-8d56-04209d2581c4"
   },
   "outputs": [
    {
     "data": {
      "text/plain": [
       "array([[1.        , 0.        , 0.        , 0.        ],\n",
       "       [0.51359112, 0.48640888, 0.        , 0.        ],\n",
       "       [0.53753304, 0.27144826, 0.1910187 , 0.        ],\n",
       "       [0.19293995, 0.03256643, 0.57960627, 0.19488734]])"
      ]
     },
     "execution_count": 21,
     "metadata": {},
     "output_type": "execute_result"
    }
   ],
   "source": [
    "attention"
   ]
  },
  {
   "cell_type": "code",
   "execution_count": null,
   "metadata": {
    "colab": {
     "base_uri": "https://localhost:8080/"
    },
    "id": "BAy37go56LZo",
    "outputId": "78d97fa1-e0b3-4c1d-8294-bf0fdb77f199"
   },
   "outputs": [
    {
     "data": {
      "text/plain": [
       "array([[-0.00368231,  1.43739233, -0.59614565, -1.23171219,  1.12030717,\n",
       "        -0.98620738, -0.15461465, -1.03106383],\n",
       "       [ 0.41440401, -0.13671232,  0.02128364, -0.60532081,  0.49977893,\n",
       "        -1.1936286 , -0.27463831, -1.10169151],\n",
       "       [ 0.32673907,  0.72121642, -0.00947672, -0.59897862,  0.90155754,\n",
       "        -0.88535361, -0.21384855, -0.7053796 ],\n",
       "       [ 0.18700384,  1.67754576,  0.33105314, -0.41795742,  1.4258469 ,\n",
       "        -0.18788199, -0.10285145,  0.54683565]])"
      ]
     },
     "execution_count": 22,
     "metadata": {},
     "output_type": "execute_result"
    }
   ],
   "source": [
    "new_v = np.matmul(attention, v)\n",
    "new_v"
   ]
  },
  {
   "cell_type": "code",
   "execution_count": null,
   "metadata": {
    "colab": {
     "base_uri": "https://localhost:8080/"
    },
    "id": "vCP2aZOU9VrT",
    "outputId": "e1fe2137-cd95-4a4b-fa1a-3ec21c38104c"
   },
   "outputs": [
    {
     "data": {
      "text/plain": [
       "array([[-0.00368231,  1.43739233, -0.59614565, -1.23171219,  1.12030717,\n",
       "        -0.98620738, -0.15461465, -1.03106383],\n",
       "       [ 0.85585446, -1.79878344,  0.67321704,  0.05607552, -0.15542661,\n",
       "        -1.41264124, -0.40136933, -1.17626611],\n",
       "       [ 0.50465335,  2.28693419,  0.67128338,  0.2506863 ,  1.78802234,\n",
       "         0.14775751, -0.11405725,  0.88026286],\n",
       "       [-0.68069105,  0.68385101,  0.17994557, -1.68013201,  0.91543969,\n",
       "        -0.19108312,  0.03160471,  1.40527326]])"
      ]
     },
     "execution_count": 23,
     "metadata": {},
     "output_type": "execute_result"
    }
   ],
   "source": [
    "v"
   ]
  },
  {
   "cell_type": "code",
   "execution_count": null,
   "metadata": {
    "id": "h_JndWelLDNW"
   },
   "outputs": [],
   "source": []
  },
  {
   "cell_type": "markdown",
   "metadata": {
    "id": "nSiJuBQELFHT"
   },
   "source": [
    "# Function"
   ]
  },
  {
   "cell_type": "code",
   "execution_count": 10,
   "metadata": {
    "id": "XvTnmdcB_jdq"
   },
   "outputs": [],
   "source": [
    "def softmax(x):\n",
    "  return (np.exp(x).T / np.sum(np.exp(x), axis=-1)).T\n",
    "\n",
    "def scaled_dot_product_attention(q, k, v, mask=None):\n",
    "  d_k = q.shape[-1]\n",
    "  scaled = np.matmul(q, k.T) / math.sqrt(d_k)\n",
    "  if mask is not None:\n",
    "    scaled = scaled + mask\n",
    "  attention = softmax(scaled)\n",
    "  out = np.matmul(attention, v)\n",
    "  return out, attention"
   ]
  },
  {
   "cell_type": "code",
   "execution_count": 11,
   "metadata": {
    "colab": {
     "base_uri": "https://localhost:8080/"
    },
    "id": "KSxLkZdiSLMT",
    "outputId": "ca70508d-fb6e-4eec-acb6-7a89a60dffa8"
   },
   "outputs": [
    {
     "name": "stdout",
     "output_type": "stream",
     "text": [
      "Q\n",
      " [[-3.35336618e-01 -4.42061127e-01 -1.17153026e+00 -8.51012074e-01\n",
      "  -1.83310562e+00 -1.01997786e+00  6.96294774e-01  5.13188841e-04]\n",
      " [-7.87534906e-01  1.21066774e+00  3.39951764e-01  1.63836578e+00\n",
      "   2.54813915e+00 -9.37917890e-01  1.90957862e+00 -2.78035979e-01]\n",
      " [-4.53429169e-01 -8.28140974e-01 -6.84221156e-01 -2.21878794e-01\n",
      "   2.38625669e-01  1.45336504e+00 -1.31057753e+00 -1.53303384e-02]\n",
      " [-2.66411325e-01  1.31584574e+00  4.34539796e-01  1.49393629e+00\n",
      "  -2.14807639e-01 -1.99427124e+00  9.81772364e-01 -1.05129162e+00]]\n",
      "K\n",
      " [[-0.8205968   1.4327968  -1.11966656  0.53342803  0.12464472  0.77386094\n",
      "   0.57159063 -0.59304417]\n",
      " [ 0.35956654  0.70422676  1.69415205  0.74546541  0.39063949 -0.10742524\n",
      "   1.59620862 -0.40137663]\n",
      " [-0.91570749  1.1063129   0.75561256  0.68401174  0.70281035 -0.46485235\n",
      "  -0.78802292  0.37576825]\n",
      " [ 0.58927671  0.07248648 -0.23737439 -0.06384246 -0.65548825  0.10876345\n",
      "  -0.63519811 -1.13629993]]\n",
      "V\n",
      " [[-0.4547183   1.08644825  0.09757016  0.00665423 -1.3913434   1.59594689\n",
      "  -0.38568267 -0.17154568]\n",
      " [-0.64707855 -0.37239731  0.76493638  0.5580627   0.54597029  0.52976054\n",
      "   1.82688059 -0.14740212]\n",
      " [-0.66185751  0.40804583  0.78062387 -0.80888161  1.16188853 -0.70744358\n",
      "   1.01808301  0.64067366]\n",
      " [-0.32754707 -0.7482304   0.76547897  0.62732724 -1.65779573 -0.92049344\n",
      "  -0.73275788 -1.09287523]]\n",
      "New V\n",
      " [[-0.4547183   1.08644825  0.09757016  0.00665423 -1.3913434   1.59594689\n",
      "  -0.38568267 -0.17154568]\n",
      " [-0.59629826  0.01271662  0.58876144  0.41249891  0.03454777  0.81121817\n",
      "   1.2427962  -0.15377567]\n",
      " [-0.55317785  0.6756557   0.42576801 -0.24152478 -0.22393817  0.61540686\n",
      "   0.37843384  0.13671976]\n",
      " [-0.58399692  0.03807084  0.64597674  0.14988312  0.11664223  0.30049731\n",
      "   0.98543567 -0.06314307]]\n",
      "Attention\n",
      " [[1.         0.         0.         0.        ]\n",
      " [0.2639854  0.7360146  0.         0.        ]\n",
      " [0.51706637 0.10656665 0.37636698 0.        ]\n",
      " [0.18372478 0.48941628 0.22943175 0.09742719]]\n"
     ]
    }
   ],
   "source": [
    "values, attention = scaled_dot_product_attention(q, k, v, mask=mask)\n",
    "print(\"Q\\n\", q)\n",
    "print(\"K\\n\", k)\n",
    "print(\"V\\n\", v)\n",
    "print(\"New V\\n\", values)\n",
    "print(\"Attention\\n\", attention)"
   ]
  },
  {
   "cell_type": "code",
   "execution_count": null,
   "metadata": {
    "id": "-HtQQtB2LJus"
   },
   "outputs": [],
   "source": []
  }
 ],
 "metadata": {
  "colab": {
   "provenance": []
  },
  "kernelspec": {
   "display_name": "Python 3",
   "name": "python3"
  },
  "language_info": {
   "codemirror_mode": {
    "name": "ipython",
    "version": 3
   },
   "file_extension": ".py",
   "mimetype": "text/x-python",
   "name": "python",
   "nbconvert_exporter": "python",
   "pygments_lexer": "ipython3",
   "version": "3.12.5"
  }
 },
 "nbformat": 4,
 "nbformat_minor": 0
}
