{
 "cells": [
  {
   "cell_type": "markdown",
   "metadata": {},
   "source": [
    "### wanda pruning "
   ]
  },
  {
   "cell_type": "code",
   "execution_count": 189,
   "metadata": {},
   "outputs": [
    {
     "name": "stdout",
     "output_type": "stream",
     "text": [
      "The random weight is :  tensor([[ 6.,  4.,  3., -1.,  6.],\n",
      "        [ 0.,  6.,  1.,  1.,  1.],\n",
      "        [ 3., -1.,  0.,  5.,  5.],\n",
      "        [ 1.,  6., -1.,  0.,  2.]], dtype=torch.float64)\n",
      "The random input tensor is :  tensor([[3., 1., 2., 0., 2.],\n",
      "        [1., 1., 0., 4., 4.],\n",
      "        [0., 4., 1., 4., 4.],\n",
      "        [4., 4., 3., 4., 3.],\n",
      "        [4., 3., 3., 0., 4.],\n",
      "        [3., 3., 3., 4., 1.]], dtype=torch.float64)\n"
     ]
    }
   ],
   "source": [
    "import torch\n",
    "torch.manual_seed(1337)\n",
    "cout = 4\n",
    "cin = 5\n",
    "weight = torch.randint(-1,7,(4,5),dtype=float)\n",
    "print(\"The random weight is : \",weight)\n",
    "input_a = torch.randint(0,5,(6,5),dtype=float)\n",
    "print(\"The random input tensor is : \",input_a)"
   ]
  },
  {
   "cell_type": "code",
   "execution_count": 179,
   "metadata": {},
   "outputs": [
    {
     "name": "stdout",
     "output_type": "stream",
     "text": [
      "The absolute weight is : tensor([[6., 4., 3., 1., 6.],\n",
      "        [0., 6., 1., 1., 1.],\n",
      "        [3., 1., 0., 5., 5.],\n",
      "        [1., 6., 1., 0., 2.]], dtype=torch.float64)\n"
     ]
    }
   ],
   "source": [
    "absolute_weight = weight.abs()\n",
    "print(\"The absolute weight is :\",absolute_weight)"
   ]
  },
  {
   "cell_type": "code",
   "execution_count": 180,
   "metadata": {},
   "outputs": [
    {
     "name": "stdout",
     "output_type": "stream",
     "text": [
      "The normalized input is : tensor([7.1414, 7.2111, 5.6569, 8.0000, 7.8740], dtype=torch.float64)\n"
     ]
    }
   ],
   "source": [
    "normalized_input = input_a.norm(p=2,dim=0)\n",
    "print(\"The normalized input is :\",normalized_input)\n"
   ]
  },
  {
   "cell_type": "code",
   "execution_count": 181,
   "metadata": {},
   "outputs": [
    {
     "name": "stdout",
     "output_type": "stream",
     "text": [
      "The pruning metric is : tensor([[42.8486, 28.8444, 16.9706,  8.0000, 47.2440],\n",
      "        [ 0.0000, 43.2666,  5.6569,  8.0000,  7.8740],\n",
      "        [21.4243,  7.2111,  0.0000, 40.0000, 39.3700],\n",
      "        [ 7.1414, 43.2666,  5.6569,  0.0000, 15.7480]], dtype=torch.float64)\n"
     ]
    }
   ],
   "source": [
    "pruning_metric = absolute_weight*normalized_input\n",
    "print(\"The pruning metric is :\",pruning_metric)"
   ]
  },
  {
   "cell_type": "code",
   "execution_count": 182,
   "metadata": {},
   "outputs": [
    {
     "name": "stdout",
     "output_type": "stream",
     "text": [
      "The sorted tensor is : tensor([[ 8.0000, 16.9706, 28.8444, 42.8486, 47.2440],\n",
      "        [ 0.0000,  5.6569,  7.8740,  8.0000, 43.2666],\n",
      "        [ 0.0000,  7.2111, 21.4243, 39.3700, 40.0000],\n",
      "        [ 0.0000,  5.6569,  7.1414, 15.7480, 43.2666]], dtype=torch.float64)\n",
      "The index of sorted values based on unsorted tensor is : tensor([[3, 2, 1, 0, 4],\n",
      "        [0, 2, 4, 3, 1],\n",
      "        [2, 1, 0, 4, 3],\n",
      "        [3, 2, 0, 4, 1]])\n"
     ]
    }
   ],
   "source": [
    "_,indices = torch.sort(pruning_metric,dim=1)\n",
    "print(\"The sorted tensor is :\",_)\n",
    "print(\"The index of sorted values based on unsorted tensor is :\",indices)"
   ]
  },
  {
   "cell_type": "code",
   "execution_count": 183,
   "metadata": {},
   "outputs": [
    {
     "data": {
      "text/plain": [
       "tensor([[3, 2],\n",
       "        [0, 2],\n",
       "        [2, 1],\n",
       "        [3, 2]])"
      ]
     },
     "execution_count": 183,
     "metadata": {},
     "output_type": "execute_result"
    }
   ],
   "source": [
    "s = 0.4\n",
    "pruned_idx = indices[:,:int(cin*s)]\n",
    "pruned_idx\n"
   ]
  },
  {
   "cell_type": "code",
   "execution_count": 184,
   "metadata": {},
   "outputs": [],
   "source": [
    "# index_tensor = torch.tensor([[3, 0, 2, 1, 4], [2, 0, 1, 3, 1],[3, 0, 2, 1, 4], [2, 0, 1, 3, 1]])"
   ]
  },
  {
   "cell_type": "code",
   "execution_count": 190,
   "metadata": {},
   "outputs": [
    {
     "name": "stdout",
     "output_type": "stream",
     "text": [
      "The sparsified weight is :  tensor([[6., 4., 0., 0., 6.],\n",
      "        [0., 6., 0., 1., 1.],\n",
      "        [3., 0., 0., 5., 5.],\n",
      "        [1., 6., 0., 0., 2.]], dtype=torch.float64)\n"
     ]
    }
   ],
   "source": [
    "# https://yuyangyy.medium.com/understand-torch-scatter-b0fd6275331c\n",
    "\n",
    "weight.scatter_(dim=1,index=pruned_idx,value=0)\n",
    "print(\"The sparsified weight is : \",weight)\n"
   ]
  }
 ],
 "metadata": {
  "kernelspec": {
   "display_name": "Python 3",
   "language": "python",
   "name": "python3"
  },
  "language_info": {
   "codemirror_mode": {
    "name": "ipython",
    "version": 3
   },
   "file_extension": ".py",
   "mimetype": "text/x-python",
   "name": "python",
   "nbconvert_exporter": "python",
   "pygments_lexer": "ipython3",
   "version": "3.12.5"
  }
 },
 "nbformat": 4,
 "nbformat_minor": 2
}
