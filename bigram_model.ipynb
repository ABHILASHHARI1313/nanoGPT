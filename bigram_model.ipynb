{
 "cells": [
  {
   "cell_type": "code",
   "execution_count": 19,
   "metadata": {},
   "outputs": [],
   "source": [
    "text = \"Once upon a time, in a land far, far away, there lived a brave knight. The knight loved adventures and saving princesses.\"\n"
   ]
  },
  {
   "cell_type": "code",
   "execution_count": 20,
   "metadata": {},
   "outputs": [
    {
     "name": "stdout",
     "output_type": "stream",
     "text": [
      "['once', 'upon', 'a', 'time', 'in', 'a', 'land', 'far', 'far', 'away', 'there', 'lived', 'a', 'brave', 'knight', 'the', 'knight', 'loved', 'adventures', 'and', 'saving', 'princesses']\n"
     ]
    }
   ],
   "source": [
    "import re \n",
    "from collections import defaultdict,Counter\n",
    "\n",
    "def preprocess(text):\n",
    "    text = text.lower()\n",
    "    text =  re.sub(r'[^\\w\\s]','',text)\n",
    "    words = text.split()\n",
    "    return words\n",
    "words = preprocess(text)\n",
    "print(words)"
   ]
  },
  {
   "cell_type": "code",
   "execution_count": 21,
   "metadata": {},
   "outputs": [
    {
     "name": "stdout",
     "output_type": "stream",
     "text": [
      "defaultdict(<class 'collections.Counter'>, {'once': Counter({'upon': 1}), 'upon': Counter({'a': 1}), 'a': Counter({'time': 1, 'land': 1, 'brave': 1}), 'time': Counter({'in': 1}), 'in': Counter({'a': 1}), 'land': Counter({'far': 1}), 'far': Counter({'far': 1, 'away': 1}), 'away': Counter({'there': 1}), 'there': Counter({'lived': 1}), 'lived': Counter({'a': 1}), 'brave': Counter({'knight': 1}), 'knight': Counter({'the': 1, 'loved': 1}), 'the': Counter({'knight': 1}), 'loved': Counter({'adventures': 1}), 'adventures': Counter({'and': 1}), 'and': Counter({'saving': 1}), 'saving': Counter({'princesses': 1})})\n"
     ]
    }
   ],
   "source": [
    "def count_bigrams(words):\n",
    "    bigram_counts = defaultdict(Counter) #Creating a defaultdict with Counter as value for each key.\n",
    "    for i in range(len(words)-1):\n",
    "        bigram_counts[words[i]][words[i+1]] += 1 #Counting each pair frequencies\n",
    "    return bigram_counts\n",
    "bigram_counts = count_bigrams(words)\n",
    "print(bigram_counts)"
   ]
  },
  {
   "cell_type": "code",
   "execution_count": 33,
   "metadata": {},
   "outputs": [
    {
     "name": "stdout",
     "output_type": "stream",
     "text": [
      "Counter({'upon': 1})\n",
      "Counter({'a': 1})\n",
      "Counter({'time': 1, 'land': 1, 'brave': 1})\n",
      "Counter({'in': 1})\n",
      "Counter({'a': 1})\n",
      "Counter({'far': 1})\n",
      "Counter({'far': 1, 'away': 1})\n",
      "Counter({'there': 1})\n",
      "Counter({'lived': 1})\n",
      "Counter({'a': 1})\n",
      "Counter({'knight': 1})\n",
      "Counter({'the': 1, 'loved': 1})\n",
      "Counter({'knight': 1})\n",
      "Counter({'adventures': 1})\n",
      "Counter({'and': 1})\n",
      "Counter({'saving': 1})\n",
      "Counter({'princesses': 1})\n"
     ]
    }
   ],
   "source": [
    "for word,next_word in bigram_counts.items():\n",
    "    print(next_word)"
   ]
  },
  {
   "cell_type": "code",
   "execution_count": 31,
   "metadata": {},
   "outputs": [
    {
     "name": "stdout",
     "output_type": "stream",
     "text": [
      "defaultdict(<class 'dict'>, {'once': {'upon': 1.0}, 'upon': {'a': 1.0}, 'a': {'time': 0.3333333333333333, 'land': 0.3333333333333333, 'brave': 0.3333333333333333}, 'time': {'in': 1.0}, 'in': {'a': 1.0}, 'land': {'far': 1.0}, 'far': {'far': 0.5, 'away': 0.5}, 'away': {'there': 1.0}, 'there': {'lived': 1.0}, 'lived': {'a': 1.0}, 'brave': {'knight': 1.0}, 'knight': {'the': 0.5, 'loved': 0.5}, 'the': {'knight': 1.0}, 'loved': {'adventures': 1.0}, 'adventures': {'and': 1.0}, 'and': {'saving': 1.0}, 'saving': {'princesses': 1.0}})\n"
     ]
    }
   ],
   "source": [
    "def calc_probabilities(bigram_counts):\n",
    "    bigram_probabilities = defaultdict(dict)\n",
    "    for word,next_words in bigram_counts.items():\n",
    "        total_count = sum(next_words.values())\n",
    "        for next_word,count in next_words.items():\n",
    "            bigram_probabilities[word][next_word] = count/total_count\n",
    "    return bigram_probabilities\n",
    "\n",
    "bigram_probabilities = calc_probabilities(bigram_counts)\n",
    "print(bigram_probabilities)\n"
   ]
  },
  {
   "cell_type": "code",
   "execution_count": 47,
   "metadata": {},
   "outputs": [
    {
     "name": "stdout",
     "output_type": "stream",
     "text": [
      "once upon a land far far away there lived a\n"
     ]
    }
   ],
   "source": [
    "import random\n",
    "\n",
    "def generate_text(bigram_probabilities,start_word,length=10):\n",
    "    current_word = start_word\n",
    "    generated_text = [current_word]\n",
    "    for _ in range(length -1):\n",
    "        if current_word in bigram_probabilities:\n",
    "            next_words = list(bigram_probabilities[current_word].keys())\n",
    "            probabilities = list(bigram_probabilities[current_word].values())\n",
    "            next_word =  random.choices(next_words,probabilities)[0]\n",
    "            generated_text.append(next_word)\n",
    "            current_word = next_word\n",
    "        else:\n",
    "            break\n",
    "    return ' '.join(generated_text)\n",
    "\n",
    "start_word = \"once\"\n",
    "generated_text = generate_text(bigram_probabilities,start_word)\n",
    "print(generated_text)"
   ]
  }
 ],
 "metadata": {
  "kernelspec": {
   "display_name": "Python 3",
   "language": "python",
   "name": "python3"
  },
  "language_info": {
   "codemirror_mode": {
    "name": "ipython",
    "version": 3
   },
   "file_extension": ".py",
   "mimetype": "text/x-python",
   "name": "python",
   "nbconvert_exporter": "python",
   "pygments_lexer": "ipython3",
   "version": "3.12.5"
  }
 },
 "nbformat": 4,
 "nbformat_minor": 2
}
